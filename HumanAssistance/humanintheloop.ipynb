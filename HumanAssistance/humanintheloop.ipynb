{
 "cells": [
  {
   "cell_type": "markdown",
   "id": "53a24121",
   "metadata": {},
   "source": [
    "## Human In The Loop"
   ]
  },
  {
   "cell_type": "code",
   "execution_count": null,
   "id": "9e5b6c53",
   "metadata": {},
   "outputs": [],
   "source": [
    "\n",
    "from typing import Annotated\n",
    "\n",
    "from langchain_tavily import TavilySearch\n",
    "from langchain_core.tools import tool\n",
    "from typing_extensions import TypedDict\n",
    "\n",
    "from langgraph.checkpoint.memory import MemorySaver\n",
    "from langgraph.graph import StateGraph, START, END\n",
    "from langgraph.graph.message import add_messages\n",
    "from langgraph.prebuilt import ToolNode, tools_condition\n",
    "# command and interrupt are used for human-in-the-loop.\n",
    "from langgraph.types import Command, interrupt\n",
    "\n",
    "class State(TypedDict):\n",
    "    messages: Annotated[list, add_messages]\n",
    "\n"
   ]
  },
  {
   "cell_type": "code",
   "execution_count": 2,
   "id": "68c6d8e6",
   "metadata": {},
   "outputs": [
    {
     "data": {
      "text/plain": [
       "True"
      ]
     },
     "execution_count": 2,
     "metadata": {},
     "output_type": "execute_result"
    }
   ],
   "source": [
    "import os\n",
    "from dotenv import load_dotenv\n",
    "load_dotenv()"
   ]
  },
  {
   "cell_type": "code",
   "execution_count": 3,
   "id": "17bc0e29",
   "metadata": {},
   "outputs": [
    {
     "data": {
      "text/plain": [
       "ChatGroq(client=<groq.resources.chat.completions.Completions object at 0x000002206811A660>, async_client=<groq.resources.chat.completions.AsyncCompletions object at 0x000002206811B230>, model_name='openai/gpt-oss-20b', temperature=0.5, model_kwargs={}, groq_api_key=SecretStr('**********'))"
      ]
     },
     "execution_count": 3,
     "metadata": {},
     "output_type": "execute_result"
    }
   ],
   "source": [
    "from langchain_groq import ChatGroq\n",
    "llm=ChatGroq(model=\"openai/gpt-oss-20b\",temperature=0.5)\n",
    "llm"
   ]
  },
  {
   "cell_type": "markdown",
   "id": "d870aefe",
   "metadata": {},
   "source": [
    "## graph with human assistance tool"
   ]
  },
  {
   "cell_type": "code",
   "execution_count": null,
   "id": "d36250d3",
   "metadata": {},
   "outputs": [
    {
     "data": {
      "image/png": "[encoded data removed]",
      "text/plain": [
       "<IPython.core.display.Image object>"
      ]
     },
     "metadata": {},
     "output_type": "display_data"
    }
   ],
   "source": [
    "\n",
    "graph_builder = StateGraph(State)\n",
    "\n",
    "@tool\n",
    "def human_assistance(query:str)->str:\n",
    "    \"\"\"Request assistance from a human.\"\"\"\n",
    "    human_response = interrupt({\"query\":query})\n",
    "    return human_response[\"data\"]\n",
    "\n",
    "search_tool = TavilySearch(max_results=2)\n",
    "tools=[search_tool, human_assistance]\n",
    "\n",
    "llm_with_tools = llm.bind_tools(tools)\n",
    "\n",
    "tool_node = ToolNode(tools=tools)\n",
    "graph_builder.add_node(\"tools\", tool_node)\n",
    "\n",
    "\n",
    "def chatbot(state:State):\n",
    "    message = llm_with_tools.invoke(state[\"messages\"])\n",
    "    # Because we will be interrupting during tool execution,\n",
    "    # we disable parallel tool calling to avoid repeating any\n",
    "    # tool invocations when we resume.\n",
    "    \n",
    "    return {\"messages\":[message]}\n",
    "graph_builder.add_node(\"chatbot\", chatbot)\n",
    "\n",
    "# add edges\n",
    "graph_builder.add_edge(START,\"chatbot\")\n",
    "graph_builder.add_conditional_edges(\"chatbot\",tools_condition)\n",
    "graph_builder.add_edge(\"tools\",\"chatbot\")\n",
    "graph_builder.add_edge(\"chatbot\",END)\n",
    "# checkpointer to save the state after each node execution\n",
    "memory = MemorySaver()\n",
    "graph = graph_builder.compile(checkpointer=memory)\n",
    "\n",
    "# Visualize the graph\n",
    "from IPython.display import display,Image\n",
    "display(Image(graph.get_graph().draw_mermaid_png()))"
   ]
  },
  {
   "cell_type": "code",
   "execution_count": 5,
   "id": "a8a98e78",
   "metadata": {},
   "outputs": [
    {
     "name": "stdout",
     "output_type": "stream",
     "text": [
      "================================\u001b[1m Human Message \u001b[0m=================================\n",
      "\n",
      "I need some assistance and guidance with finding information about LangGraph.Could you request assistance for me?\n",
      "==================================\u001b[1m Ai Message \u001b[0m==================================\n",
      "Tool Calls:\n",
      "  human_assistance (fc_8fbeb27d-68e0-4a27-9c3e-e33d7c8b9781)\n",
      " Call ID: fc_8fbeb27d-68e0-4a27-9c3e-e33d7c8b9781\n",
      "  Args:\n",
      "    query: I need some assistance and guidance with finding information about LangGraph. Could you request assistance for me?\n"
     ]
    }
   ],
   "source": [
    "## testing human in the loop \n",
    "user_input = \"I need some assistance and guidance with finding information about LangGraph.Could you request assistance for me?\"\n",
    "config = {\"configurable\" : {\"thread_id\":\"1\"}}\n",
    "\n",
    "events = graph.stream({\"messages\": user_input},config=config,stream_mode=\"values\")\n",
    "\n",
    "for event in events:\n",
    "    if \"messages\" in event:\n",
    "        event[\"messages\"][-1].pretty_print()  "
   ]
  },
  {
   "cell_type": "code",
   "execution_count": 6,
   "id": "c43c5296",
   "metadata": {},
   "outputs": [
    {
     "name": "stdout",
     "output_type": "stream",
     "text": [
      "==================================\u001b[1m Ai Message \u001b[0m==================================\n",
      "Tool Calls:\n",
      "  human_assistance (fc_8fbeb27d-68e0-4a27-9c3e-e33d7c8b9781)\n",
      " Call ID: fc_8fbeb27d-68e0-4a27-9c3e-e33d7c8b9781\n",
      "  Args:\n",
      "    query: I need some assistance and guidance with finding information about LangGraph. Could you request assistance for me?\n",
      "=================================\u001b[1m Tool Message \u001b[0m=================================\n",
      "Name: human_assistance\n",
      "\n",
      "We, the experts are here to help! We'd recommend you check out LangGraph documentaton for detailed information about it. It's much more detailed and reliable.\n"
     ]
    },
    {
     "name": "stdout",
     "output_type": "stream",
     "text": [
      "==================================\u001b[1m Ai Message \u001b[0m==================================\n",
      "\n",
      "Sure thing! I’ve requested assistance on your behalf. The experts responded with this recommendation:\n",
      "\n",
      "> “We, the experts, are here to help! We'd recommend you check out the LangGraph documentation for detailed information about it. It’s much more detailed and reliable.”\n",
      "\n",
      "Feel free to let me know if you’d like a quick summary of that documentation or help navigating it!\n"
     ]
    }
   ],
   "source": [
    "## human in the loop works!. now we capture human response and pass it  back to the chatbot.\n",
    "\n",
    "human_response = (\"We, the experts are here to help! We'd recommend you check out LangGraph documentaton for detailed information about it.\"\n",
    "    \" It's much more detailed and reliable.\")\n",
    "human_command = Command(resume={\"data\": human_response})\n",
    "\n",
    "events = graph.stream(human_command,config,stream_mode=\"values\")\n",
    "\n",
    "for event in events:\n",
    "    if \"messages\" in event:\n",
    "        event[\"messages\"][-1].pretty_print()"
   ]
  }
 ],
 "metadata": {
  "kernelspec": {
   "display_name": "agentic",
   "language": "python",
   "name": "python3"
  },
  "language_info": {
   "codemirror_mode": {
    "name": "ipython",
    "version": 3
   },
   "file_extension": ".py",
   "mimetype": "text/x-python",
   "name": "python",
   "nbconvert_exporter": "python",
   "pygments_lexer": "ipython3",
   "version": "3.13.7"
  }
 },
 "nbformat": 4,
 "nbformat_minor": 5
}
